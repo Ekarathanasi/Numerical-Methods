{
 "cells": [
  {
   "cell_type": "code",
   "execution_count": null,
   "metadata": {},
   "outputs": [
    {
     "data": {
      "text/plain": [
       "((h**4*Derivative(y(x), (x, 4))/12 + h**2*Derivative(y(x), (x, 2)))/h**2,\n",
       " h**2*Derivative(y(x), (x, 4))/12)"
      ]
     },
     "execution_count": 1,
     "metadata": {},
     "output_type": "execute_result"
    }
   ],
   "source": [
    "import sympy as sp\n",
    "import math\n",
    "\n",
    "x, h = sp.symbols('x h')\n",
    "y = sp.Function('y')\n",
    "\n",
    "#Taylor expansion\n",
    "y_plus = y(x) + h*y(x).diff(x) + (h**2/2)*y(x).diff(x, 2) + (h**3/6)*y(x).diff(x, 3) + (h**4/24)*y(x).diff(x, 4)\n",
    "y_minus = y(x) - h*y(x).diff(x) + (h**2/2)*y(x).diff(x, 2) - (h**3/6)*y(x).diff(x, 3) + (h**4/24)*y(x).diff(x, 4)\n",
    "\n",
    "#Central difference\n",
    "central_diff = (y_plus - 2*y(x) + y_minus) / h**2\n",
    "\n",
    "\n",
    "error_term = central_diff - y(x).diff(x, 2)\n",
    "\n",
    "#Simplify the error term\n",
    "error_simplified = sp.simplify(error_term)\n",
    "\n",
    "central_diff, error_simplified"
   ]
  },
  {
   "cell_type": "code",
   "execution_count": null,
   "metadata": {},
   "outputs": [
    {
     "name": "stdout",
     "output_type": "stream",
     "text": [
      "Approximate second derivative at x0 = 0.7853981633974483: -0.7071008886516683\n",
      "Error term at x0 = 0.7853981633974483: -5.892556509887897e-06\n",
      "Adjusted second derivative: -0.7071067812081782\n"
     ]
    }
   ],
   "source": [
    "def central_difference_second_derivative(f, x0, h, fourth_derivative=None):\n",
    "    y_plus = f(x0 + h)\n",
    "    y_0 = f(x0)\n",
    "    y_minus = f(x0 - h)\n",
    "\n",
    "    #Central difference approximation of the second derivative\n",
    "    second_derivative = (y_plus - 2 * y_0 + y_minus) / h**2\n",
    "\n",
    "    #Compute the error term if the fourth derivative\n",
    "    if fourth_derivative is not None:\n",
    "        error = - (h**2 / 12) * fourth_derivative(x0)\n",
    "    else:\n",
    "        error = None\n",
    "\n",
    "    return second_derivative, error\n",
    "\n",
    "def f(x):\n",
    "    return math.sin(x)\n",
    "\n",
    "#Fourth derivative of the function\n",
    "def fourth_derivative_f(x):\n",
    "    #For f(x) = sin(x), the fourth derivative is sin(x)\n",
    "    return math.sin(x)\n",
    "\n",
    "\n",
    "x0 = math.pi / 4  # 45 degrees in radians\n",
    "\n",
    "\n",
    "h = 0.01\n",
    "\n",
    "# Compute the second derivative and error term\n",
    "approx_second_derivative, error_term = central_difference_second_derivative(\n",
    "    f, x0, h, fourth_derivative=fourth_derivative_f\n",
    ")\n",
    "\n",
    "print(f\"Approximate second derivative at x0 = {x0}: {approx_second_derivative}\")\n",
    "if error_term is not None:\n",
    "    print(f\"Error term at x0 = {x0}: {error_term}\")\n",
    "    print(f\"Adjusted second derivative: {approx_second_derivative + error_term}\")\n"
   ]
  },
  {
   "cell_type": "markdown",
   "metadata": {},
   "source": []
  }
 ],
 "metadata": {
  "kernelspec": {
   "display_name": "Python 3",
   "language": "python",
   "name": "python3"
  },
  "language_info": {
   "codemirror_mode": {
    "name": "ipython",
    "version": 3
   },
   "file_extension": ".py",
   "mimetype": "text/x-python",
   "name": "python",
   "nbconvert_exporter": "python",
   "pygments_lexer": "ipython3",
   "version": "3.11.8"
  }
 },
 "nbformat": 4,
 "nbformat_minor": 2
}
