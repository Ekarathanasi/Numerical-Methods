{
 "cells": [
  {
   "cell_type": "code",
   "execution_count": 3,
   "id": "e5601e55-9841-4bf1-a332-c48a7ace33f6",
   "metadata": {
    "scrolled": true
   },
   "outputs": [
    {
     "name": "stdout",
     "output_type": "stream",
     "text": [
      "Approximate second derivative at x = 1.0: -0.841470050674517\n",
      "Taylor expansions (verification) for y_1, y_{-1}, y_2, y_{-2}:\n",
      "0.8912073612406552\n",
      "0.9320391620826786\n",
      "0.7833269107852656\n",
      "0.7173561642721064\n",
      "Actual second derivative at x = 1.0: -0.8414709848078965\n",
      "Difference between approximate and actual second derivative: 9.341333795376272e-07\n",
      "Explicit form of the error term: 9.349677608976628e-07\n"
     ]
    }
   ],
   "source": [
    "import numpy as np\n",
    "\n",
    "def central_difference_second_derivative(y_values, h):\n",
    "\n",
    "    second_derivative = (-y_values[4] + 16 * y_values[3] - 30 * y_values[2] + 16 * y_values[1] - y_values[0]) / (12 * h**2)\n",
    "    \n",
    "    return second_derivative\n",
    "\n",
    "def taylor_expansion_terms_v(y_0, y_0_prime, y_0_double_prime, y_0_triple_prime, y_0_fourth, y_0_fifth, h):\n",
    "    \n",
    "    y_1 = y_0 + h * y_0_prime + (h**2 / 2) * y_0_double_prime + (h**3 / 6) * y_0_triple_prime + (h**4 / 24) * y_0_fourth + (h**5 / 120) * y_0_fifth\n",
    "    y_minus_1 = y_0 - h * y_0_prime + (h**2 / 2) * y_0_double_prime - (h**3 / 6) * y_0_triple_prime + (h**4 / 24) * y_0_fourth - (h**5 / 120) * y_0_fifth\n",
    "    y_2 = y_0 + 2 * h * y_0_prime + (2 * h)**2 / 2 * y_0_double_prime + (2 * h)**3 / 6 * y_0_triple_prime + (2 * h)**4 / 24 * y_0_fourth + (2 * h)**5 / 120 * y_0_fifth\n",
    "    y_minus_2 = y_0 - 2 * h * y_0_prime + (2 * h)**2 / 2 * y_0_double_prime - (2 * h)**3 / 6 * y_0_triple_prime + (2 * h)**4 / 24 * y_0_fourth - (2 * h)**5 / 120 * y_0_fifth\n",
    "    \n",
    "    return [y_1, y_2, y_minus_1, y_minus_2]\n",
    "\n",
    "# error term for the central difference method\n",
    "def central_difference_error_term(y_0_fourth, h):\n",
    "    error = (h**4 / 90) * y_0_fourth\n",
    "    return error\n",
    "\n",
    "def f(x):\n",
    "    return np.sin(x)\n",
    "    \n",
    "# Step size\n",
    "h = 0.1  \n",
    "\n",
    "# at x=1\n",
    "x_0 = 1.0  \n",
    "y_values = [f(x_0 - 2*h), f(x_0 - h), f(x_0), f(x_0 + h), f(x_0 + 2*h)]\n",
    "\n",
    "# second derivative\n",
    "approx_second_derivative = central_difference_second_derivative(y_values, h)\n",
    "\n",
    "print(f\"Approximate second derivative at x = {x_0}: {approx_second_derivative}\")\n",
    "\n",
    "# Example Taylor expansion terms for verification, added -v to keep it seperate from the upper section\n",
    "y_0_v = f(x_0)\n",
    "y_0_prime_v = np.cos(x_0)\n",
    "y_0_double_prime_v = -np.sin(x_0)\n",
    "y_0_triple_prime_v = -np.cos(x_0)\n",
    "y_0_fourth_v = np.sin(x_0)\n",
    "y_0_fifth_v = np.cos(x_0)\n",
    "\n",
    "expansions = taylor_expansion_terms_v(y_0_v, y_0_prime_v, y_0_double_prime_v, y_0_triple_prime_v, y_0_fourth_v, y_0_fifth_v, h)\n",
    "print(\"Taylor expansions (verification) for y_1, y_{-1}, y_2, y_{-2}:\")\n",
    "for value in expansions:\n",
    "    print(value)\n",
    "\n",
    "# Calculate the actual second derivative for comparison\n",
    "actual_second_derivative = -np.sin(x_0)\n",
    "print(f\"Actual second derivative at x = {x_0}: {actual_second_derivative}\")\n",
    "\n",
    "# Compare the approximated second derivative with the actual value\n",
    "difference = abs(approx_second_derivative - actual_second_derivative)\n",
    "print(f\"Difference between approximate and actual second derivative: {difference}\")\n",
    "\n",
    "# Calculate the error term for the central difference method\n",
    "error = central_difference_error_term(y_0_fourth_v, h)\n",
    "print(f\"Explicit form of the error term: {error}\")\n"
   ]
  },
  {
   "cell_type": "code",
   "execution_count": null,
   "id": "bb2d0e02-0162-4153-a1f7-7dd5e308edc6",
   "metadata": {},
   "outputs": [],
   "source": []
  },
  {
   "cell_type": "code",
   "execution_count": null,
   "id": "5ca6f2a4-e40b-4f87-9d11-b1ff183f2894",
   "metadata": {},
   "outputs": [],
   "source": []
  }
 ],
 "metadata": {
  "kernelspec": {
   "display_name": "Python 3 (ipykernel)",
   "language": "python",
   "name": "python3"
  },
  "language_info": {
   "codemirror_mode": {
    "name": "ipython",
    "version": 3
   },
   "file_extension": ".py",
   "mimetype": "text/x-python",
   "name": "python",
   "nbconvert_exporter": "python",
   "pygments_lexer": "ipython3",
   "version": "3.12.3"
  }
 },
 "nbformat": 4,
 "nbformat_minor": 5
}
