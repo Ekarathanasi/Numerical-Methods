{
 "cells": [
  {
   "cell_type": "code",
   "execution_count": 1,
   "metadata": {},
   "outputs": [
    {
     "data": {
      "text/plain": [
       "{'Analytical Derivative': 1.0,\n",
       " 'Central Difference Results': [0.9966865249116204,\n",
       "  0.9991679144388552,\n",
       "  0.9999666686665237],\n",
       " 'Richardson Extrapolation Results': [0.9999950442812668,\n",
       "  0.9999996881961234,\n",
       "  0.9999999995000448],\n",
       " 'Spline Derivative Result': array(1.00013)}"
      ]
     },
     "execution_count": 1,
     "metadata": {},
     "output_type": "execute_result"
    }
   ],
   "source": [
    "import numpy as np\n",
    "from scipy.interpolate import CubicSpline\n",
    "\n",
    "\n",
    "def f(x):\n",
    "    return np.arctan(x)\n",
    "\n",
    "def f_prime_analytical(x):\n",
    "    return 1 / (1 + x**2)\n",
    "\n",
    "#Central difference method\n",
    "def central_difference(f, x, h):\n",
    "    return (f(x + h) - f(x - h)) / (2 * h)\n",
    "\n",
    "#Richardson extrapolation\n",
    "def richardson_extrapolation(f, x, h):\n",
    "    D1 = central_difference(f, x, h)  \n",
    "    D2 = central_difference(f, x, h / 2)  \n",
    "    return (4 * D2 - D1) / 3\n",
    "\n",
    "#Splines for derivative\n",
    "def spline_derivative(f, x_points, eval_point):\n",
    "    y_points = f(x_points)\n",
    "    spline = CubicSpline(x_points, y_points)\n",
    "    return spline(eval_point, 1)  \n",
    "\n",
    "\n",
    "x_eval = 0\n",
    "\n",
    "h_values = [0.1, 0.05, 0.01]\n",
    "central_diff_results = [central_difference(f, x_eval, h) for h in h_values]\n",
    "richardson_results = [richardson_extrapolation(f, x_eval, h) for h in h_values]\n",
    "\n",
    "\n",
    "x_spline = np.linspace(-1, 1, 10)  \n",
    "spline_result = spline_derivative(f, x_spline, x_eval)\n",
    "\n",
    "\n",
    "analytical_result = f_prime_analytical(x_eval)\n",
    "\n",
    "{\n",
    "    \"Analytical Derivative\": analytical_result,\n",
    "    \"Central Difference Results\": central_diff_results,\n",
    "    \"Richardson Extrapolation Results\": richardson_results,\n",
    "    \"Spline Derivative Result\": spline_result\n",
    "}"
   ]
  },
  {
   "cell_type": "code",
   "execution_count": null,
   "metadata": {},
   "outputs": [],
   "source": []
  }
 ],
 "metadata": {
  "kernelspec": {
   "display_name": "Python 3",
   "language": "python",
   "name": "python3"
  },
  "language_info": {
   "codemirror_mode": {
    "name": "ipython",
    "version": 3
   },
   "file_extension": ".py",
   "mimetype": "text/x-python",
   "name": "python",
   "nbconvert_exporter": "python",
   "pygments_lexer": "ipython3",
   "version": "3.11.8"
  }
 },
 "nbformat": 4,
 "nbformat_minor": 2
}
