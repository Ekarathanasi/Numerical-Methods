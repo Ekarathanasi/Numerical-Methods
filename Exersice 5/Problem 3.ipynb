{
 "cells": [
  {
   "cell_type": "code",
   "execution_count": 1,
   "id": "5d938990-f4fc-4b86-b3a2-5e46521ec06c",
   "metadata": {},
   "outputs": [
    {
     "name": "stdout",
     "output_type": "stream",
     "text": [
      "Result 1: 0.6666666666666667\n",
      "Error 1: 2.2108134835808843e-14\n",
      "Difference: 1.1102230246251565e-16\n",
      "\n",
      "Result 2: 0.26666666666666666\n",
      "Error 2: 5.546974543905651e-15\n",
      "Difference: 0.0\n",
      "\n",
      "Result 3: 0.2666666666666667\n",
      "Error 3: 7.337409017185647e-15\n",
      "\n"
     ]
    }
   ],
   "source": [
    "#\\int_0^1 (\\int_0^2 xy^2 dx) dy, \\int_0^1 (\\int_{2y}^2 xy^2 dx) dy, \\int_0^2 (\\int_0^{x/2} xy^2 dy) dx\n",
    "\n",
    "import scipy.integrate as spi\n",
    "import numpy as np\n",
    "import matplotlib.pyplot as plt\n",
    "\n",
    "def integrand1(x, y):\n",
    "    return x * y**2\n",
    "result1, error1 = spi.dblquad(integrand1, 0, 1, lambda y: 0, lambda y: 2)\n",
    "expected1 = 2 / 3\n",
    "print(f\"Result 1: {result1}\")\n",
    "print(f\"Error 1: {error1}\")\n",
    "print(f\"Difference: {abs(result1 - expected1)}\\n\")\n",
    "def integrand2(x, y):\n",
    "    return x * y**2\n",
    "result2, error2 = spi.dblquad(integrand2, 0, 1, lambda y: 2 * y, lambda y: 2)\n",
    "expected2 = 4 / 15\n",
    "print(f\"Result 2: {result2}\")\n",
    "print(f\"Error 2: {error2}\")\n",
    "print(f\"Difference: {abs(result2 - expected2)}\\n\")\n",
    "def integrand3(y, x):\n",
    "    return x * y**2\n",
    "result3, error3 = spi.dblquad(integrand3, 0, 2, lambda x: 0, lambda x: x / 2)\n",
    "print(f\"Result 3: {result3}\")\n",
    "print(f\"Error 3: {error3}\\n\")"
   ]
  },
  {
   "cell_type": "code",
   "execution_count": null,
   "id": "48c8f5c9-365a-4771-b49a-5e5b12bb8800",
   "metadata": {},
   "outputs": [],
   "source": []
  }
 ],
 "metadata": {
  "kernelspec": {
   "display_name": "Python 3 (ipykernel)",
   "language": "python",
   "name": "python3"
  },
  "language_info": {
   "codemirror_mode": {
    "name": "ipython",
    "version": 3
   },
   "file_extension": ".py",
   "mimetype": "text/x-python",
   "name": "python",
   "nbconvert_exporter": "python",
   "pygments_lexer": "ipython3",
   "version": "3.12.3"
  }
 },
 "nbformat": 4,
 "nbformat_minor": 5
}
